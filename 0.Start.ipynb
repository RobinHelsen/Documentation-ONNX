{
 "cells": [
  {
   "cell_type": "markdown",
   "metadata": {},
   "source": [
    "# ONNX\n",
    "\n",
    "### Introduction\n",
    "\n",
    "    ONNX, which stands for Open Neural Network Exchange, is an open standard format for representing machine learning models. \n",
    "    It's designed to enable models to be portable and interoperable across different AI frameworks and platforms, such as TensorFlow, PyTorch, and others. \n",
    "    This portability allows developers to train a model in one framework, convert it into the ONNX format, \n",
    "    and then deploy it in another framework for inference, without the need to rewrite or adjust the model code significantly.\n",
    "\n",
    "\n",
    "### Basics:\n",
    "\n",
    "    As an overview, I will briefly outline the necessary steps to create an ONNX model:\n",
    "\n",
    "1. Develop your model using supported libraries and languages; (if it's not in Python, convert it to Python first. More info is provided later)\n",
    "\n",
    "2. Export Model to ONNX: Convert your machine learning model from its native framework format to the ONNX format.\n",
    "\n",
    "3. Use Model in New Environment: Deploy and run the ONNX model in a different programming language or platform.\n",
    "\n"
   ]
  },
  {
   "cell_type": "markdown",
   "metadata": {},
   "source": [
    "* <code style=\"background-color: #800000; color: white;\">To make a overvieuw I have made A file where most of the important possible frameworks are listed with there respected language </code>\n",
    "\n",
    "* #### Can be seen in: #1.Model_Frameworks:"
   ]
  },
  {
   "cell_type": "markdown",
   "metadata": {},
   "source": [
    "-----------"
   ]
  },
  {
   "cell_type": "markdown",
   "metadata": {},
   "source": [
    "# The start    \n",
    "    \n",
    "    Creating ONNX models doesn't strictly require starting with Python models. Instead, you can directly develop models using the specific syntax and constructs provided by the ONNX framework, which might differ from traditional Python-based machine learning libraries. Therefore, you do not need to make your Python models first (but you can). Converting a model often involves making certain modifications to ensure compatibility for the conversion to Onnx.\n",
    "\n"
   ]
  },
  {
   "cell_type": "markdown",
   "metadata": {},
   "source": [
    "* <code style=\"background-color: #800000; color: white;\">When I first started, I made these models beforehand, but that was not a good idea because it required more work after that, so I redid the whole code. Now, in the ONNX syntax</code>\n",
    "\n",
    "* #### Can be seen in: #2.Python_models:"
   ]
  },
  {
   "cell_type": "markdown",
   "metadata": {},
   "source": [
    "## Venv is needed !\n",
    "\n",
    "After a great deal of struggle, I found that a virtual environment is very much needed!\n",
    "\n",
    "onnx does not work well with influence of other packages or libraries. I have found that only a\n",
    "stable version like python 3.9 works wel. I also could not use 3.9 in a normal way. I needed to use a venv to isolate the process. \n",
    "\n",
    "#### Install Required Packages + Libraries + python venv:\n",
    "\n",
    "#### Make a venv with python 3.9:\n",
    "\n",
    "* open cmd\n",
    "\n",
    "    * cd path\\to\\your\\project\n",
    "\n",
    "    * python_version_name -m venv name_your_venv\n",
    "\n",
    "    * if you use vscode use: code .\n",
    "\n",
    "* vscode\n",
    "\n",
    "    * .\\name_your_venv\\Scripts\\Activate.ps1\n",
    "\n",
    "\n"
   ]
  },
  {
   "cell_type": "markdown",
   "metadata": {},
   "source": [
    "* <code style=\"background-color: #800000; color: white;\">When Creating the venv you can ecounter some problems, here are a few of them:</code>\n",
    "\n",
    "* #### Can be seen in: #3.Some_ Errors:\n",
    "\n",
    "\n"
   ]
  },
  {
   "attachments": {
    "image.png": {
     "image/png": "[encoded data removed]"
    }
   },
   "cell_type": "markdown",
   "metadata": {},
   "source": [
    "#### First, ensure you have the necessary libraries installed in your Python environment:\n",
    "\n",
    "    for example, If you want to make a model using sklearn\n",
    "\n",
    "```python\n",
    "!pip install pandas\n",
    "```\n",
    "\n",
    "```python\n",
    "!pip install sklearn\n",
    "```\n",
    "\n",
    "#### Install ONNX and ONNX-specific libraries:\n",
    "\n",
    "```python\n",
    "!pip install onnx onnxruntime\n",
    "```\n",
    "\n",
    "```python\n",
    "!pip install onnx skl2onnx\n",
    "```\n",
    "\n",
    "```python\n",
    "!pip install onnx onnxruntime skl2onnx numpy\n",
    "```\n",
    "\n",
    "    It should look like this:\n",
    "\n",
    "![image.png](attachment:image.png)"
   ]
  },
  {
   "cell_type": "markdown",
   "metadata": {},
   "source": [
    "------\n",
    "\n",
    "## Making the onnx brigde file:"
   ]
  },
  {
   "cell_type": "markdown",
   "metadata": {},
   "source": [
    "    for example using the Sklearn onnx library:\n",
    "\n",
    "#### This would be an example of how you would make a onnx file:"
   ]
  },
  {
   "cell_type": "code",
   "execution_count": null,
   "metadata": {},
   "outputs": [],
   "source": [
    "import onnx\n",
    "import skl2onnx\n",
    "from skl2onnx import convert_sklearn\n",
    "from skl2onnx.common.data_types import FloatTensorType\n",
    "from sklearn.datasets import load_iris\n",
    "from sklearn.model_selection import train_test_split\n",
    "from sklearn.linear_model import LogisticRegression\n",
    "import numpy as np\n",
    "\n",
    "# Load Iris dataset\n",
    "iris = load_iris()\n",
    "X, y = iris.data, iris.target\n",
    "\n",
    "# Split the dataset into training and test sets\n",
    "X_train, X_test, y_train, y_test = train_test_split(X, y, test_size=0.2, random_state=42)\n",
    "\n",
    "# Train Logistic Regression model\n",
    "model = LogisticRegression(max_iter=200)\n",
    "model.fit(X_train, y_train)\n",
    "\n",
    "# Now we have the trained model and X_train, we can specify the input type and shape for ONNX\n",
    "initial_type = [('float_input', FloatTensorType([None, X_train.shape[1]]))]\n",
    "\n",
    "# Convert the trained model to ONNX format\n",
    "onnx_model = convert_sklearn(model, initial_types=initial_type)\n",
    "\n",
    "# Save the ONNX model to a file\n",
    "with open(\"logistic_regression.onnx\", \"wb\") as f:\n",
    "    f.write(onnx_model.SerializeToString())"
   ]
  },
  {
   "cell_type": "markdown",
   "metadata": {},
   "source": [
    "\n",
    "* <code style=\"background-color: #800000; color: white;\">This is just a example in the the file below I wil give a universal outline of how to make a model using any framework:</code>\n",
    "\n",
    "* #### Can be seen in: #4.Making_The_Bridge \n"
   ]
  },
  {
   "cell_type": "markdown",
   "metadata": {},
   "source": [
    "---------"
   ]
  },
  {
   "cell_type": "markdown",
   "metadata": {},
   "source": [
    "## Using the ONNX model:\n",
    "\n",
    "    for example, from the sklearn model to a tensorflow model\n",
    "\n",
    "#### Tensorflow for js:\n",
    "\n",
    "Download Node.js:\n",
    "\n",
    "* Go to the Node.js official website and download node.js.\n",
    "\n",
    "\n",
    "* Initialize a Node.js Project:\n",
    "\n",
    "    * mkdir my_node_project\n",
    "    * cd my_node_project\n",
    "    * npm init -y\n",
    "    * npm install onnxruntime-node"
   ]
  },
  {
   "cell_type": "markdown",
   "metadata": {},
   "source": [
    "#### reading out the onnx file:"
   ]
  },
  {
   "cell_type": "markdown",
   "metadata": {},
   "source": [
    "    Currently this code does not work fully there is something left that I cant seem to solve but the Code should look something like this.\n",
    "\n",
    "    When the code works eventualy you have succesfully made and used a onnx file."
   ]
  },
  {
   "cell_type": "markdown",
   "metadata": {},
   "source": [
    "```js\n",
    "const ort = require('onnxruntime-node');\n",
    "\n",
    "// Function to load the ONNX model\n",
    "async function loadModel(filePath) {\n",
    "  try {\n",
    "    const session = await ort.InferenceSession.create(filePath);\n",
    "    console.log('Model loaded successfully');\n",
    "    return session;\n",
    "  } catch (e) {\n",
    "    console.error('Failed to load model', e);\n",
    "    throw e;\n",
    "  }\n",
    "}\n",
    "\n",
    "// Function to run the model with input data\n",
    "async function runModel(session, inputData) {\n",
    "  try {\n",
    "    // Create a tensor from the input data\n",
    "    const inputTensor = new ort.Tensor('float32', inputData, [1, inputData.length]);\n",
    "    // Prepare the inputs for the model\n",
    "    const feeds = { [session.inputNames[0]]: inputTensor };\n",
    "    // Run the model\n",
    "    const results = await session.run(feeds);\n",
    "    // Return only the output tensor data\n",
    "    return results[session.outputNames[0]].data;\n",
    "  } catch (e) {\n",
    "    console.error('Failed to run model', e);\n",
    "    throw e;\n",
    "  }\n",
    "}\n",
    "\n",
    "// Example input data (should match the feature size of Iris dataset, which is 4)\n",
    "const sampleInputData = new Float32Array([5.1, 3.5, 1.4, 0.2]);\n",
    "\n",
    "// Main function to load and run the model\n",
    "async function main() {\n",
    "  const modelFilePath = 'logistic_regression.onnx'; // Path to the ONNX model file\n",
    "  const session = await loadModel(modelFilePath);\n",
    "  const output = await runModel(session, sampleInputData);\n",
    "  console.log('Model output:', output);\n",
    "}\n",
    "\n",
    "main().catch(console.error);\n",
    "```"
   ]
  },
  {
   "cell_type": "markdown",
   "metadata": {},
   "source": [
    "### Universal Guide:"
   ]
  },
  {
   "cell_type": "markdown",
   "metadata": {},
   "source": [
    "* <code style=\"background-color: #800000; color: white;\">In the file below you can find a general guide on how to use a onnx file </code>\n",
    "\n",
    "* #### Can be seen in: #5.Using_the_ONNX"
   ]
  },
  {
   "cell_type": "markdown",
   "metadata": {},
   "source": [
    "----------"
   ]
  },
  {
   "cell_type": "markdown",
   "metadata": {},
   "source": [
    "## ONNX in Other languages:\n",
    "\n",
    "    I have made a few general guides for other languages as python.\n",
    "\n",
    "    "
   ]
  },
  {
   "cell_type": "markdown",
   "metadata": {},
   "source": [
    "* <code style=\"background-color: #800000; color: white;\">In the file below you will find a general guide on how to make a onnx file from R </code>\n",
    "\n",
    "* #### Can be seen in: #R_to_ONNX"
   ]
  },
  {
   "cell_type": "markdown",
   "metadata": {},
   "source": [
    "* <code style=\"background-color: #800000; color: white;\">In the file below you can find a guide of how to convert a c++ model to an onnx file </code>\n",
    "\n",
    "* #### Can be seen in: #4.C++_To_ONNX"
   ]
  }
 ],
 "metadata": {
  "kernelspec": {
   "display_name": "Python 3",
   "language": "python",
   "name": "python3"
  },
  "language_info": {
   "name": "python",
   "version": "3.12.2"
  }
 },
 "nbformat": 4,
 "nbformat_minor": 2
}
