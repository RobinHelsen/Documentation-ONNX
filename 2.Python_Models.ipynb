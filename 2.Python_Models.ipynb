{
 "cells": [
  {
   "cell_type": "markdown",
   "metadata": {},
   "source": [
    "### Random gegenereede dataset:"
   ]
  },
  {
   "cell_type": "code",
   "execution_count": 1,
   "metadata": {},
   "outputs": [
    {
     "name": "stdout",
     "output_type": "stream",
     "text": [
      "Accuracy: 0.70\n"
     ]
    }
   ],
   "source": [
    "# 1. Import necessary libraries\n",
    "from sklearn.linear_model import LogisticRegression\n",
    "from sklearn.model_selection import train_test_split\n",
    "from sklearn.metrics import accuracy_score\n",
    "import pandas as pd\n",
    "\n",
    "# Load the dataset from the CSV file\n",
    "file_path = 'CSV_folder/logistic_regression_data.csv'\n",
    "df = pd.read_csv(file_path)\n",
    "\n",
    "# 2. Prepare your dataset\n",
    "X = df[['feature1', 'feature2']]  # Features\n",
    "y = df['target']  # Target variable\n",
    "\n",
    "# 3. Split the dataset\n",
    "X_train, X_test, y_train, y_test = train_test_split(X, y, test_size=0.2, random_state=42)\n",
    "\n",
    "# 4. Create and train the Logistic Regression model\n",
    "model = LogisticRegression()\n",
    "model.fit(X_train, y_train)\n",
    "\n",
    "# 5. Make predictions and evaluate the model\n",
    "y_pred = model.predict(X_test)\n",
    "accuracy = accuracy_score(y_test, y_pred)\n",
    "print(f'Accuracy: {accuracy:.2f}')\n"
   ]
  },
  {
   "cell_type": "code",
   "execution_count": 2,
   "metadata": {},
   "outputs": [
    {
     "name": "stdout",
     "output_type": "stream",
     "text": [
      "Accuracy: 0.60\n"
     ]
    }
   ],
   "source": [
    "# 1. Import necessary libraries\n",
    "from sklearn.tree import DecisionTreeClassifier\n",
    "from sklearn.model_selection import train_test_split\n",
    "from sklearn.metrics import accuracy_score\n",
    "import pandas as pd\n",
    "\n",
    "# Load the dataset from the CSV file\n",
    "file_path = 'CSV_folder/decision_tree_data.csv'\n",
    "df = pd.read_csv(file_path)\n",
    "\n",
    "# 2. Prepare your dataset\n",
    "X = df[['feature1', 'feature2']]  # Features\n",
    "y = df['target']  # Target variable\n",
    "\n",
    "# 3. Split the dataset\n",
    "X_train, X_test, y_train, y_test = train_test_split(X, y, test_size=0.2, random_state=42)\n",
    "\n",
    "# 4. Create and train the Decision Tree model\n",
    "model = DecisionTreeClassifier()\n",
    "model.fit(X_train, y_train)\n",
    "\n",
    "# 5. Make predictions and evaluate the model\n",
    "y_pred = model.predict(X_test)\n",
    "accuracy = accuracy_score(y_test, y_pred)\n",
    "print(f'Accuracy: {accuracy:.2f}')\n"
   ]
  },
  {
   "cell_type": "markdown",
   "metadata": {},
   "source": [
    "--------------"
   ]
  },
  {
   "cell_type": "markdown",
   "metadata": {},
   "source": [
    "---------"
   ]
  },
  {
   "cell_type": "markdown",
   "metadata": {},
   "source": [
    "### Kleine Titanic dataset:"
   ]
  },
  {
   "cell_type": "code",
   "execution_count": 3,
   "metadata": {},
   "outputs": [],
   "source": [
    "def preprocess_titanic_data(df):\n",
    "    # Convert 'Sex' to numeric (female: 0, male: 1)\n",
    "    df['Sex'] = df['Sex'].map({'female': 0, 'male': 1})\n",
    "    \n",
    "    # Fill missing 'Age' values with the median age\n",
    "    df['Age'].fillna(df['Age'].median(), inplace=True)\n",
    "    \n",
    "    # Consider dropping or filling missing values in other columns as needed\n",
    "    # For simplicity, this example assumes there are no missing values in other columns\n",
    "\n",
    "    return df"
   ]
  },
  {
   "cell_type": "code",
   "execution_count": 5,
   "metadata": {},
   "outputs": [
    {
     "name": "stdout",
     "output_type": "stream",
     "text": [
      "Logistic Regression Accuracy: 0.50\n"
     ]
    }
   ],
   "source": [
    "import pandas as pd\n",
    "from sklearn.model_selection import train_test_split\n",
    "from sklearn.linear_model import LogisticRegression\n",
    "from sklearn.metrics import accuracy_score\n",
    "\n",
    "# Load the Titanic dataset (you will need to adjust the file path)\n",
    "titanic_df = pd.read_csv('CSV_folder/smaller_titanic_dataset.csv')\n",
    "\n",
    "# Preprocess the Titanic dataset (pseudo-code, replace with actual preprocessing steps)\n",
    "titanic_df = preprocess_titanic_data(titanic_df)\n",
    "\n",
    "# Split the dataset into features and target variable\n",
    "X = titanic_df.drop('Survived', axis=1)  # Features (drop the 'Survived' column and any other non-relevant columns)\n",
    "y = titanic_df['Survived']  # Target variable\n",
    "\n",
    "# Split the dataset into training and testing sets\n",
    "X_train, X_test, y_train, y_test = train_test_split(X, y, test_size=0.2, random_state=42)\n",
    "\n",
    "# Logistic Regression\n",
    "logistic_model = LogisticRegression()\n",
    "logistic_model.fit(X_train, y_train)\n",
    "logistic_predictions = logistic_model.predict(X_test)\n",
    "logistic_accuracy = accuracy_score(y_test, logistic_predictions)\n",
    "print(f'Logistic Regression Accuracy: {logistic_accuracy:.2f}')\n"
   ]
  },
  {
   "cell_type": "code",
   "execution_count": 6,
   "metadata": {},
   "outputs": [
    {
     "name": "stdout",
     "output_type": "stream",
     "text": [
      "Decision Tree Accuracy: 0.50\n"
     ]
    }
   ],
   "source": [
    "import pandas as pd\n",
    "from sklearn.model_selection import train_test_split\n",
    "from sklearn.tree import DecisionTreeClassifier\n",
    "from sklearn.metrics import accuracy_score\n",
    "\n",
    "# Load the Titanic dataset (you will need to adjust the file path)\n",
    "titanic_df = pd.read_csv('CSV_folder/smaller_titanic_dataset.csv')\n",
    "\n",
    "# Preprocess the Titanic dataset (pseudo-code, replace with actual preprocessing steps)\n",
    "titanic_df = preprocess_titanic_data(titanic_df)\n",
    "\n",
    "# Split the dataset into features and target variable\n",
    "X = titanic_df.drop('Survived', axis=1)  # Features (drop the 'Survived' column and any other non-relevant columns)\n",
    "y = titanic_df['Survived']  # Target variable\n",
    "\n",
    "# Split the dataset into training and testing sets\n",
    "X_train, X_test, y_train, y_test = train_test_split(X, y, test_size=0.2, random_state=42)\n",
    "\n",
    "# Decision Tree\n",
    "decision_tree_model = DecisionTreeClassifier()\n",
    "decision_tree_model.fit(X_train, y_train)\n",
    "tree_predictions = decision_tree_model.predict(X_test)\n",
    "tree_accuracy = accuracy_score(y_test, tree_predictions)\n",
    "print(f'Decision Tree Accuracy: {tree_accuracy:.2f}')"
   ]
  },
  {
   "cell_type": "markdown",
   "metadata": {},
   "source": [
    "------------"
   ]
  },
  {
   "cell_type": "markdown",
   "metadata": {},
   "source": [
    "### Toevoegen van cross-validation:"
   ]
  },
  {
   "cell_type": "code",
   "execution_count": null,
   "metadata": {},
   "outputs": [],
   "source": [
    "import pandas as pd\n",
    "from sklearn.model_selection import cross_val_score\n",
    "from sklearn.linear_model import LogisticRegression\n",
    "\n",
    "# Load the Titanic dataset (you will need to adjust the file path)\n",
    "titanic_df = pd.read_csv('CSV_folder/smaller_titanic_dataset.csv')\n",
    "\n",
    "# Preprocess the Titanic dataset (pseudo-code, replace with actual preprocessing steps)\n",
    "titanic_df = preprocess_titanic_data(titanic_df)\n",
    "\n",
    "# Split the dataset into features and target variable\n",
    "X = titanic_df.drop('Survived', axis=1)  # Features\n",
    "y = titanic_df['Survived']  # Target variableg\n",
    "\n",
    "# Logistic Regression\n",
    "logistic_model = LogisticRegression()\n",
    "\n",
    "# Perform 5-fold cross-validation\n",
    "cv_scores = cross_val_score(logistic_model, X, y, cv=5)\n",
    "\n",
    "# Calculate the mean of the cross-validation scores\n",
    "cv_mean_score = cv_scores.mean()\n",
    "\n",
    "print(f'5-fold Cross-Validation Accuracy: {cv_mean_score:.2f}')\n"
   ]
  },
  {
   "cell_type": "code",
   "execution_count": 29,
   "metadata": {},
   "outputs": [
    {
     "name": "stdout",
     "output_type": "stream",
     "text": [
      "5-fold Cross-Validation Accuracy: 0.53\n"
     ]
    }
   ],
   "source": [
    "import pandas as pd\n",
    "from sklearn.model_selection import cross_val_score\n",
    "from sklearn.tree import DecisionTreeClassifier\n",
    "\n",
    "# Load the Titanic dataset (you will need to adjust the file path)\n",
    "titanic_df = pd.read_csv('CSV_folder/smaller_titanic_dataset.csv')\n",
    "\n",
    "# Preprocess the Titanic dataset (pseudo-code, replace with actual preprocessing steps)\n",
    "titanic_df = preprocess_titanic_data(titanic_df)\n",
    "\n",
    "# Split the dataset into features and target variable\n",
    "X = titanic_df.drop('Survived', axis=1)  # Features\n",
    "y = titanic_df['Survived']  # Target variable\n",
    "\n",
    "# Decision Tree\n",
    "decision_tree_model = DecisionTreeClassifier()\n",
    "\n",
    "# Perform 5-fold cross-validation\n",
    "cv_scores = cross_val_score(decision_tree_model, X, y, cv=5)\n",
    "\n",
    "# Calculate the mean of the cross-validation scores\n",
    "cv_mean_score = cv_scores.mean()\n",
    "\n",
    "print(f'5-fold Cross-Validation Accuracy: {cv_mean_score:.2f}')\n"
   ]
  }
 ],
 "metadata": {
  "kernelspec": {
   "display_name": "Python 3",
   "language": "python",
   "name": "python3"
  },
  "language_info": {
   "codemirror_mode": {
    "name": "ipython",
    "version": 3
   },
   "file_extension": ".py",
   "mimetype": "text/x-python",
   "name": "python",
   "nbconvert_exporter": "python",
   "pygments_lexer": "ipython3",
   "version": "3.12.1"
  }
 },
 "nbformat": 4,
 "nbformat_minor": 2
}
